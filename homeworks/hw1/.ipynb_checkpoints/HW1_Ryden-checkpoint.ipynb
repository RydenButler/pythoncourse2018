{
 "cells": [
  {
   "cell_type": "code",
   "execution_count": 8,
   "metadata": {},
   "outputs": [],
   "source": [
    "import numpy\n",
    "import datetime\n",
    "\n",
    "class Investment(object):\n",
    "    def __init__(self, price, ticker):\n",
    "        self.ticker = str(ticker)\n",
    "        self.price = float(price)\n",
    "    \n",
    "    def __str__(self):\n",
    "        return '%s: $%.2f per share' % (self.ticker, self.price)\n",
    "    \n",
    "    def __repr__(self):\n",
    "        return self.__str__()\n",
    "    \n",
    "class Stock(Investment):\n",
    "    def __init__(self, price, ticker):\n",
    "        if isinstance(price, float):\n",
    "            print \"\"\"\n",
    "    Stock prices must be integer values.\n",
    "    Input rounded down to $%d.\n",
    "            \"\"\"% (int(price))\n",
    "        Investment.__init__(self, int(price), ticker)\n",
    "        \n",
    "class MutualFund(Investment):\n",
    "    def __init__(self, ticker, price = 1):\n",
    "        Investment.__init__(self, 1, ticker)\n",
    "\n",
    "class Bond(Investment):\n",
    "    def __init__(self, price, ticker):\n",
    "        Investment.__init__(self, price, ticker)\n",
    "        \n",
    "class Portfolio(object):\n",
    "    def __init__(self, cash = 0):\n",
    "        self.cash = float(cash)\n",
    "        self.stock = 'None'\n",
    "        self.mf = 'None'\n",
    "        self.bond = 'None'\n",
    "        self.transactions = []\n",
    "    \n",
    "    def __str__(self):\n",
    "        return \"\"\"\n",
    "    As of %s\n",
    "    -----------------------\n",
    "    Cash:    %.2f\n",
    "    Stock:   %s\n",
    "    M.funds: %s\n",
    "    Bonds:   %s\n",
    "        \"\"\" % (self.stampTime(), \n",
    "               self.cash, \n",
    "               self.sortInvestments(self.stock), \n",
    "               self.sortInvestments(self.mf), \n",
    "               self.sortInvestments(self.bond))\n",
    "    \n",
    "    def sortInvestments(self, investment):\n",
    "        if investment == 'None':\n",
    "            return investment\n",
    "        else:\n",
    "            show_investment = sorted(['%s --- %.2f shares' % (i, investment[i]) for i in investment])\n",
    "            return '\\n\\t     '.join(show_investment)\n",
    "    \n",
    "    def __repr__(self):\n",
    "        return self.__str__()\n",
    "    \n",
    "    def stampTime(self):\n",
    "        return datetime.datetime.now().strftime(\"%I:%M%p on %m/%d/%Y\")\n",
    "        \n",
    "    def addCash(self, amount, is_add = True):\n",
    "        self.cash += float(amount)\n",
    "        if is_add:\n",
    "            self.transactions.append('%s | Added cash: $%.2f' % (self.stampTime(), amount))\n",
    "        \n",
    "    def withdrawCash(self, amount, is_cash = True, shares = 0, investment = Stock(1, 'Empty')):\n",
    "        if amount > self.cash:\n",
    "            line1 = 'Insufficient funds.'\n",
    "        else:\n",
    "            self.addCash(-amount, is_add = False)\n",
    "            if is_cash:\n",
    "                line1 = 'Withdrew $%.2f from your portfolio.' % (amount)\n",
    "                self.transactions.append('%s | Withdrew cash: $%.2f' % (self.stampTime(), amount))\n",
    "            else: \n",
    "                line1 = 'You bought %.2f shares of %s for $%.2f.' % (shares, investment.ticker, amount)\n",
    "                self.transactions.append('%s | Bought shares: %.2f (%s) @ $%.2f/s ($%.2f total)' % (self.stampTime(), \n",
    "                                                                                                    shares, \n",
    "                                                                                                    investment.ticker, \n",
    "                                                                                                    investment.price, \n",
    "                                                                                                    amount))\n",
    "        print \"\"\"\n",
    "    %s\n",
    "    You have $%.2f remaining in your portfolio.\n",
    "        \"\"\" % (line1, self.cash)\n",
    "        \n",
    "    def buyInvestment(self, shares, investment, my_shares):\n",
    "        cost = shares * investment.price\n",
    "        self.withdrawCash(cost, False, shares, investment)\n",
    "        if my_shares == 'None':\n",
    "            my_shares = {investment.ticker : shares}\n",
    "        elif investment.ticker in my_shares.keys():\n",
    "            my_shares[investment.ticker] += shares\n",
    "        else:\n",
    "            my_shares[investment.ticker] = shares\n",
    "        return my_shares\n",
    "        \n",
    "    def buyStock(self, shares, investment):\n",
    "        self.stock = self.buyInvestment(shares, investment, self.stock)\n",
    "    \n",
    "    def buyMutualFund(self, shares, investment):\n",
    "        self.mf = self.buyInvestment(shares, investment, self.mf)\n",
    "    \n",
    "    def buyBond(self, shares, investment):\n",
    "        self.bond = self.buyInvestment(shares, investment, self.bond)\n",
    "     \n",
    "    def sellInvestment(self, shares, investment, my_shares, sale_price):\n",
    "        if investment.ticker not in my_shares:\n",
    "            print 'You do not own any shares of that investment.'\n",
    "            return my_shares\n",
    "        elif shares > my_shares[investment.ticker]:\n",
    "            print \"\"\"\n",
    "    Cannot sell %.2f shares of %s. \n",
    "    You only own %.2f shares.\n",
    "            \"\"\" % (shares, investment.ticker, my_shares[investment.ticker])\n",
    "            return my_shares\n",
    "        else:\n",
    "            earnings = sale_price * investment.price * shares\n",
    "            profit = earnings - (shares * investment.price)\n",
    "            self.cash += earnings\n",
    "            if shares == my_shares[investment.ticker]:\n",
    "                del my_shares[investment.ticker]\n",
    "            else:\n",
    "                my_shares[investment.ticker] -= shares\n",
    "            print \"\"\"\n",
    "    Sold %.2f shares of %s at $%.2f per share.\n",
    "    You have %.2f shares remaining.\n",
    "    The sale was worth $%.2f, for a profit of $%.2f.\n",
    "    You now have $%.2f in your portfolio.\n",
    "            \"\"\" % (shares, \n",
    "                   investment.ticker, \n",
    "                   sale_price * investment.price, \n",
    "                   my_shares[investment.ticker], \n",
    "                   earnings, profit, \n",
    "                   self.cash)\n",
    "            self.transactions.append('%s | Sold shares: %.2f (%s) for $%.2f/s ($%.2f total)' % (self.stampTime(), \n",
    "                                                                                                shares, \n",
    "                                                                                                investment.ticker, \n",
    "                                                                                                sale_price * investment.price, \n",
    "                                                                                                sale_price * investment.price * shares))\n",
    "            investment.price = sale_price\n",
    "            return my_shares\n",
    "    \n",
    "    def sellStock(self, shares, investment):\n",
    "        self.stock = self.sellInvestment(shares, investment, self.stock, numpy.random.uniform(0.5, 1.5))\n",
    "\n",
    "    def sellMutualFund(self, shares, investment):\n",
    "        self.mf = self.sellInvestment(shares, investment, self.mf, numpy.random.uniform(0.9, 1.2))\n",
    "\n",
    "    def sellBond(self, shares, investment):\n",
    "        self.bond = self.sellInvestment(shares, investment, self.bond, 1.02)\n",
    "    \n",
    "    def history(self, from_start = True):\n",
    "        if from_start:\n",
    "            print '\\n'.join(self.transactions)\n",
    "        else:\n",
    "            print '\\n'.join(reversed(self.transactions))"
   ]
  },
  {
   "cell_type": "code",
   "execution_count": 9,
   "metadata": {},
   "outputs": [],
   "source": [
    "portfolio = Portfolio()"
   ]
  },
  {
   "cell_type": "code",
   "execution_count": 10,
   "metadata": {},
   "outputs": [],
   "source": [
    "portfolio.addCash(300.50)"
   ]
  },
  {
   "cell_type": "code",
   "execution_count": 11,
   "metadata": {},
   "outputs": [
    {
     "data": {
      "text/plain": [
       "\n",
       "    As of 03:39PM on 08/08/2018\n",
       "    -----------------------\n",
       "    Cash:    300.50\n",
       "    Stock:   None\n",
       "    M.funds: None\n",
       "    Bonds:   None\n",
       "        "
      ]
     },
     "execution_count": 11,
     "metadata": {},
     "output_type": "execute_result"
    }
   ],
   "source": [
    "portfolio"
   ]
  },
  {
   "cell_type": "code",
   "execution_count": 12,
   "metadata": {},
   "outputs": [],
   "source": [
    "s = Stock(20, 'HFH')"
   ]
  },
  {
   "cell_type": "code",
   "execution_count": 13,
   "metadata": {},
   "outputs": [
    {
     "data": {
      "text/plain": [
       "HFH: $20.00 per share"
      ]
     },
     "execution_count": 13,
     "metadata": {},
     "output_type": "execute_result"
    }
   ],
   "source": [
    "s"
   ]
  },
  {
   "cell_type": "code",
   "execution_count": 14,
   "metadata": {},
   "outputs": [
    {
     "name": "stdout",
     "output_type": "stream",
     "text": [
      "\n",
      "    Stock prices must be integer values.\n",
      "    Input rounded down to $20.\n",
      "            \n"
     ]
    }
   ],
   "source": [
    "s2 = Stock(20.3, 'HFH2')"
   ]
  },
  {
   "cell_type": "code",
   "execution_count": 15,
   "metadata": {},
   "outputs": [
    {
     "name": "stdout",
     "output_type": "stream",
     "text": [
      "\n",
      "    You bought 5.00 shares of HFH for $100.00.\n",
      "    You have $200.50 remaining in your portfolio.\n",
      "        \n"
     ]
    }
   ],
   "source": [
    "portfolio.buyStock(5, s)"
   ]
  },
  {
   "cell_type": "code",
   "execution_count": 16,
   "metadata": {},
   "outputs": [],
   "source": [
    "mf1 = MutualFund('BRT')"
   ]
  },
  {
   "cell_type": "code",
   "execution_count": 17,
   "metadata": {},
   "outputs": [],
   "source": [
    "mf2 = MutualFund('GHT')"
   ]
  },
  {
   "cell_type": "code",
   "execution_count": 18,
   "metadata": {},
   "outputs": [
    {
     "name": "stdout",
     "output_type": "stream",
     "text": [
      "\n",
      "    You bought 10.30 shares of BRT for $10.30.\n",
      "    You have $190.20 remaining in your portfolio.\n",
      "        \n"
     ]
    }
   ],
   "source": [
    "portfolio.buyMutualFund(10.3, mf1)"
   ]
  },
  {
   "cell_type": "code",
   "execution_count": 19,
   "metadata": {},
   "outputs": [
    {
     "name": "stdout",
     "output_type": "stream",
     "text": [
      "\n",
      "    You bought 2.00 shares of GHT for $2.00.\n",
      "    You have $188.20 remaining in your portfolio.\n",
      "        \n"
     ]
    }
   ],
   "source": [
    "portfolio.buyMutualFund(2, mf2)"
   ]
  },
  {
   "cell_type": "code",
   "execution_count": 20,
   "metadata": {},
   "outputs": [
    {
     "name": "stdout",
     "output_type": "stream",
     "text": [
      "\n",
      "    As of 03:39PM on 08/08/2018\n",
      "    -----------------------\n",
      "    Cash:    188.20\n",
      "    Stock:   HFH --- 5.00 shares\n",
      "    M.funds: BRT --- 10.30 shares\n",
      "\t     GHT --- 2.00 shares\n",
      "    Bonds:   None\n",
      "        \n"
     ]
    }
   ],
   "source": [
    "print portfolio"
   ]
  },
  {
   "cell_type": "code",
   "execution_count": 21,
   "metadata": {},
   "outputs": [
    {
     "name": "stdout",
     "output_type": "stream",
     "text": [
      "\n",
      "    Sold 3.00 shares of BRT at $1.14 per share.\n",
      "    You have 7.30 shares remaining.\n",
      "    The sale was worth $3.42, for a profit of $0.42.\n",
      "    You now have $191.62 in your portfolio.\n",
      "            \n"
     ]
    }
   ],
   "source": [
    "portfolio.sellMutualFund(3, mf1)"
   ]
  },
  {
   "cell_type": "code",
   "execution_count": 22,
   "metadata": {},
   "outputs": [
    {
     "name": "stdout",
     "output_type": "stream",
     "text": [
      "\n",
      "    Sold 1.00 shares of HFH at $24.83 per share.\n",
      "    You have 4.00 shares remaining.\n",
      "    The sale was worth $24.83, for a profit of $4.83.\n",
      "    You now have $216.45 in your portfolio.\n",
      "            \n"
     ]
    }
   ],
   "source": [
    "portfolio.sellStock(1, s)"
   ]
  },
  {
   "cell_type": "code",
   "execution_count": 23,
   "metadata": {},
   "outputs": [
    {
     "name": "stdout",
     "output_type": "stream",
     "text": [
      "You do not own any shares of that investment.\n"
     ]
    }
   ],
   "source": [
    "portfolio.sellStock(1, mf1)"
   ]
  },
  {
   "cell_type": "code",
   "execution_count": 24,
   "metadata": {},
   "outputs": [
    {
     "name": "stdout",
     "output_type": "stream",
     "text": [
      "\n",
      "    Cannot sell 100.00 shares of HFH. \n",
      "    You only own 4.00 shares.\n",
      "            \n"
     ]
    }
   ],
   "source": [
    "portfolio.sellStock(100, s)"
   ]
  },
  {
   "cell_type": "code",
   "execution_count": 25,
   "metadata": {},
   "outputs": [
    {
     "name": "stdout",
     "output_type": "stream",
     "text": [
      "\n",
      "    Withdrew $50.00 from your portfolio.\n",
      "    You have $166.45 remaining in your portfolio.\n",
      "        \n"
     ]
    }
   ],
   "source": [
    "portfolio.withdrawCash(50)"
   ]
  },
  {
   "cell_type": "code",
   "execution_count": 26,
   "metadata": {},
   "outputs": [
    {
     "name": "stdout",
     "output_type": "stream",
     "text": [
      "\n",
      "    Insufficient funds.\n",
      "    You have $166.45 remaining in your portfolio.\n",
      "        \n"
     ]
    }
   ],
   "source": [
    "portfolio.withdrawCash(500000)"
   ]
  },
  {
   "cell_type": "code",
   "execution_count": 27,
   "metadata": {},
   "outputs": [
    {
     "name": "stdout",
     "output_type": "stream",
     "text": [
      "03:39PM on 08/08/2018 | Added cash: $300.50\n",
      "03:39PM on 08/08/2018 | Bought shares: 5.00 (HFH) @ $20.00/s ($100.00 total)\n",
      "03:39PM on 08/08/2018 | Bought shares: 10.30 (BRT) @ $1.00/s ($10.30 total)\n",
      "03:39PM on 08/08/2018 | Bought shares: 2.00 (GHT) @ $1.00/s ($2.00 total)\n",
      "03:39PM on 08/08/2018 | Sold shares: 3.00 (BRT) for $1.14/s ($3.42 total)\n",
      "03:39PM on 08/08/2018 | Sold shares: 1.00 (HFH) for $24.83/s ($24.83 total)\n",
      "03:39PM on 08/08/2018 | Withdrew cash: $50.00\n"
     ]
    }
   ],
   "source": [
    "portfolio.history()"
   ]
  },
  {
   "cell_type": "code",
   "execution_count": 28,
   "metadata": {},
   "outputs": [
    {
     "name": "stdout",
     "output_type": "stream",
     "text": [
      "03:39PM on 08/08/2018 | Withdrew cash: $50.00\n",
      "03:39PM on 08/08/2018 | Sold shares: 1.00 (HFH) for $24.83/s ($24.83 total)\n",
      "03:39PM on 08/08/2018 | Sold shares: 3.00 (BRT) for $1.14/s ($3.42 total)\n",
      "03:39PM on 08/08/2018 | Bought shares: 2.00 (GHT) @ $1.00/s ($2.00 total)\n",
      "03:39PM on 08/08/2018 | Bought shares: 10.30 (BRT) @ $1.00/s ($10.30 total)\n",
      "03:39PM on 08/08/2018 | Bought shares: 5.00 (HFH) @ $20.00/s ($100.00 total)\n",
      "03:39PM on 08/08/2018 | Added cash: $300.50\n"
     ]
    }
   ],
   "source": [
    "portfolio.history(from_start = False)"
   ]
  }
 ],
 "metadata": {
  "kernelspec": {
   "display_name": "Python 2",
   "language": "python",
   "name": "python2"
  },
  "language_info": {
   "codemirror_mode": {
    "name": "ipython",
    "version": 2
   },
   "file_extension": ".py",
   "mimetype": "text/x-python",
   "name": "python",
   "nbconvert_exporter": "python",
   "pygments_lexer": "ipython2",
   "version": "2.7.14"
  }
 },
 "nbformat": 4,
 "nbformat_minor": 2
}
