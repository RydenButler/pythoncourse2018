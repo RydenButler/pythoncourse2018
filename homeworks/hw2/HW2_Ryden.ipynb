{
 "cells": [
  {
   "cell_type": "code",
   "execution_count": 6,
   "metadata": {},
   "outputs": [],
   "source": [
    "from bs4 import BeautifulSoup\n",
    "import urllib2 \n",
    "import csv"
   ]
  },
  {
   "cell_type": "code",
   "execution_count": 7,
   "metadata": {},
   "outputs": [],
   "source": [
    "petition_link = []\n",
    "next_page = '/petitions?page=0'\n",
    "while next_page != False:\n",
    "    web_address = 'https://petitions.whitehouse.gov' + next_page\n",
    "    html = BeautifulSoup(urllib2.urlopen(web_address).read())\n",
    "    try:\n",
    "        next_page = html.find('div', {'class' : 'views-pager-history views-pager-history-next'}).a['href']\n",
    "    except:\n",
    "        next_page = False\n",
    "    all_h3 = html.find_all('h3')\n",
    "    for j in all_h3:\n",
    "        if j.a != None:\n",
    "            petition_link.append(j.a['href'])"
   ]
  },
  {
   "cell_type": "code",
   "execution_count": 8,
   "metadata": {},
   "outputs": [],
   "source": [
    "with open('Petitions_Ryden.csv', 'wb') as my_csv:\n",
    "    my_writer = csv.DictWriter(my_csv, fieldnames = ('Petition', 'Date', 'Issues', 'Signatures'))\n",
    "    my_writer.writeheader()\n",
    "    for k in petition_link:\n",
    "        web_address = 'https://petitions.whitehouse.gov' + k\n",
    "        html = BeautifulSoup(urllib2.urlopen(web_address).read())\n",
    "        title = html.find('h1').text.encode('utf-8')\n",
    "        date = html.find('h4', {'class' : \"petition-attribution\"}).text.split('on ')[1]\n",
    "        content_tags = html.find('div', {'class': 'field field-name-field-petition-issues field-type-taxonomy-term-reference field-label-hidden tags'}).find_all('h6')\n",
    "        issues = [l.text.encode('utf-8') for l in content_tags]\n",
    "        signatures = html.find('span', {'class': 'signatures-number'}).text.encode('utf-8')\n",
    "        my_writer.writerow({\"Petition\" : title, \"Date\" : date, \"Issues\" : issues, \"Signatures\" : signatures})\n",
    "    my_csv.close()"
   ]
  }
 ],
 "metadata": {
  "kernelspec": {
   "display_name": "Python 2",
   "language": "python",
   "name": "python2"
  },
  "language_info": {
   "codemirror_mode": {
    "name": "ipython",
    "version": 2
   },
   "file_extension": ".py",
   "mimetype": "text/x-python",
   "name": "python",
   "nbconvert_exporter": "python",
   "pygments_lexer": "ipython2",
   "version": "2.7.14"
  }
 },
 "nbformat": 4,
 "nbformat_minor": 2
}
